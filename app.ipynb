{
 "cells": [
  {
   "cell_type": "markdown",
   "id": "b2f4d6d3",
   "metadata": {},
   "source": [
    "<style>\n",
    "p.block {\n",
    "    text-align: justify !important;\n",
    "    line-height: 1.5 !important;\n",
    "    color:black !important;\n",
    "}\n",
    ".center {\n",
    "    text-align: center;\n",
    "}\n",
    "</style>\n"
   ]
  },
  {
   "cell_type": "markdown",
   "id": "1b3a8909",
   "metadata": {},
   "source": [
    "<div style=\"text-align: center;\">\n",
    "    <h1>Erstellung einer Vorhersage für stornierte Buchungen</h1>\n",
    "    <p><b>Name:</b> Tommi Jlassi</p>\n",
    "    <p><b>Matrikelnummer:</b> XX</p>\n",
    "    <p><b>Datum:</b> 28. August 2025</p>\n",
    "    <p><b>Kurs:</b> Machine Learning</p>\n",
    "</div>\n"
   ]
  },
  {
   "cell_type": "markdown",
   "id": "5312efbe",
   "metadata": {},
   "source": [
    "<h2 style=\"color:black;\">Inhaltsverzeichnis</h2>\n",
    "<ol style=\"color:black; line-height: 1.5;\">\n",
    "    <li><a href=\"#kapitel1\" style=\"color:black;\">Betrachte das Gesamtbild</a></li>\n",
    "    <li><a href=\"#kapitel2\" style=\"color:black;\">Beschaffe die Daten</a></li>\n",
    "    <li><a href=\"#kapitel3\" style=\"color:black;\">Erkunde und visualisiere die Daten</a></li>\n",
    "    <li><a href=\"#kapitel4\" style=\"color:black;\">Bereite die Daten für Machine-Learning-Algorithmen vor</a></li>\n",
    "    <li><a href=\"#kapitel5\" style=\"color:black;\">Wähle ein Modell aus und trainiere es</a></li>\n",
    "    <li><a href=\"#kapitel6\" style=\"color:black;\">Verfeinere das Modell</a></li>\n",
    "    <li><a href=\"#kapitel7\" style=\"color:black;\">Präsentiere die Lösung</a></li>\n",
    "    <li><a href=\"#kapitel8\" style=\"color:black;\">In Betriebnahme</a></li>\n",
    "</ol>\n"
   ]
  },
  {
   "cell_type": "markdown",
   "id": "45357bb0",
   "metadata": {},
   "source": [
    "## Einleitung\n",
    "\n",
    "<p class=\"block\">\n",
    "Die vorliegende Arbeit untersucht die Möglichkeiten, mit Hilfe von Datenanalyse und Machine Learning geschäftsrelevante Vorhersagen zu treffen.\n",
    "Konkret steht die Fragestellung im Mittelpunkt, ob bevorstehende Reservierungen eines Hotels storniert werden oder nicht und wie wahrscheinlich ein solcher Stornofall ist.\n",
    "Eine zuverlässige Prognose in diesem Bereich kann für Hotelbetreiber von großem Wert sein, da sie eine optimierte Personal- und Ressourcenplanung, gezieltes Marketing sowie die Minimierung finanzieller Ausfälle ermöglicht.</p>\n",
    "\n",
    "<p style=\"text-align: justify;line-height: 1.5;color:black;\">\n",
    "Zunächst wird ein Gesamtüberblick über das Problem und den wirtschaftlichen Kontext gegeben. Anschließend werden die benötigten Datenquellen vorgestellt, die Daten analysiert und für die Anwendung von Machine-Learning-Algorithmen aufbereitet. Darauf aufbauend wird ein passendes Modell ausgewählt, trainiert und verfeinert, bevor die Ergebnisse präsentiert und die Einsatzmöglichkeiten in der Praxis diskutiert werden.\n",
    " </p>\n"
   ]
  },
  {
   "cell_type": "markdown",
   "id": "8e3be131",
   "metadata": {},
   "source": [
    "## <a id=\"kapitel1\"></a>1. Betrachte das Gesamtbild\n",
    "**Ziel:** Überblick über das Problem, Motivation, Projektziel.\n",
    "\n",
    "Hier erläuterst du:\n",
    "- Problemstellung\n",
    "- Warum das Thema relevant ist\n",
    "- Erwartete Ergebnisse"
   ]
  },
  {
   "cell_type": "markdown",
   "id": "98b50fbb",
   "metadata": {},
   "source": [
    "\n",
    "## <a id=\"kapitel2\"></a>2. Beschaffe die Daten\n",
    "**Ziel:** Quellen und Beschaffung der Rohdaten.\n",
    "\n",
    "- Datenquellen (z. B. CSV, API, Web Scraping)\n",
    "- Rechtliche Aspekte (Lizenzen, Datenschutz)\n",
    "- Erster Blick auf Rohdaten"
   ]
  },
  {
   "cell_type": "code",
   "execution_count": null,
   "id": "8bde56aa",
   "metadata": {},
   "outputs": [],
   "source": [
    "import pandas as pd\n",
    "df = pd.read_csv(\"daten.csv\")\n",
    "df.head()\n"
   ]
  },
  {
   "cell_type": "markdown",
   "id": "6ffe2ac5",
   "metadata": {},
   "source": [
    "\n",
    "## <a id=\"kapitel3\"></a>2. Erkunden und Visualisieren\n",
    "**Ziel:** Verständis und Gefühl für die Daten\n",
    "\n",
    "- Visualisiren\n",
    "- Matrix"
   ]
  },
  {
   "cell_type": "code",
   "execution_count": 11,
   "id": "8f64a61a",
   "metadata": {},
   "outputs": [],
   "source": [
    "import matplotlib.pyplot as plt"
   ]
  },
  {
   "cell_type": "code",
   "execution_count": null,
   "id": "0ba3c46d",
   "metadata": {},
   "outputs": [],
   "source": []
  }
 ],
 "metadata": {
  "kernelspec": {
   "display_name": "py11",
   "language": "python",
   "name": "python3"
  },
  "language_info": {
   "codemirror_mode": {
    "name": "ipython",
    "version": 3
   },
   "file_extension": ".py",
   "mimetype": "text/x-python",
   "name": "python",
   "nbconvert_exporter": "python",
   "pygments_lexer": "ipython3",
   "version": "3.11.13"
  }
 },
 "nbformat": 4,
 "nbformat_minor": 5
}
