{
 "cells": [
  {
   "cell_type": "markdown",
   "id": "b2f4d6d3",
   "metadata": {},
   "source": [
    "<style>\n",
    "p.block {\n",
    "    text-align: justify !important;\n",
    "    line-height: 1.5 !important;\n",
    "    color:black !important;\n",
    "}\n",
    ".center {\n",
    "    text-align: center;\n",
    "}\n",
    "\n",
    "#kapitel1 {\n",
    "    color:black;\n",
    "\n",
    "}\n",
    "\n",
    ".kapitel{\n",
    "\n",
    "    color:black;\n",
    "    font-family: 'Times New Roman';\n",
    "}\n",
    "\n",
    "</style>\n"
   ]
  },
  {
   "cell_type": "markdown",
   "id": "1b3a8909",
   "metadata": {},
   "source": [
    "<div style=\"text-align: center;\">\n",
    "    <h1>Erstellung einer Vorhersage für stornierte Buchungen</h1>\n",
    "    <p><b>Name:</b> Tommi Jlassi</p>\n",
    "    <p><b>Matrikelnummer:</b> XX</p>\n",
    "    <p><b>Datum:</b> 28. August 2025</p>\n",
    "    <p><b>Kurs:</b> Machine Learning</p>\n",
    "</div>\n"
   ]
  },
  {
   "cell_type": "markdown",
   "id": "5312efbe",
   "metadata": {},
   "source": [
    "<h2 style=\"color:black;font-family: 'Times New Roman', Times, serif;\">Inhaltsverzeichnis</h2>\n",
    "<ol style=\"color:black; line-height: 1.5;\">\n",
    "    <li><a href=\"#kapitel1\" style=\"color:black;font-family: 'Times New Roman', Times, serif;\">Betrachte das Gesamtbild</a></li>\n",
    "    <li><a href=\"#kapitel2\" style=\"color:black;font-family: 'Times New Roman', Times, serif;\">Beschaffe die Daten</a></li>\n",
    "    <li><a href=\"#kapitel3\" style=\"color:black;font-family: 'Times New Roman', Times, serif;\">Erkunde und visualisiere die Daten</a></li>\n",
    "    <li><a href=\"#kapitel4\" style=\"color:black;font-family: 'Times New Roman', Times, serif;\">Bereite die Daten für Machine-Learning-Algorithmen vor</a></li>\n",
    "    <li><a href=\"#kapitel5\" style=\"color:black;font-family: 'Times New Roman', Times, serif;\">Wähle ein Modell aus und trainiere es</a></li>\n",
    "    <li><a href=\"#kapitel6\" style=\"color:black;font-family: 'Times New Roman', Times, serif;\">Verfeinere das Modell</a></li>\n",
    "    <li><a href=\"#kapitel7\" style=\"color:black;font-family: 'Times New Roman', Times, serif;\">Präsentiere die Lösung</a></li>\n",
    "    <li><a href=\"#kapitel8\" style=\"color:black;font-family: 'Times New Roman', Times, serif;\">In Betriebnahme</a></li>\n",
    "</ol>\n"
   ]
  },
  {
   "cell_type": "markdown",
   "id": "45357bb0",
   "metadata": {},
   "source": [
    "<h2 style=\"font-family: 'Times New Roman', Times, serif; color:black\">Einleitung</h2>\n",
    "\n",
    "<p style=\"text-align: justify;line-height: 1.5;color:black; font-family: 'Times New Roman', Times, serif;\">\n",
    "Die vorliegende Arbeit untersucht die Möglichkeiten, mit Hilfe von Datenanalyse und Machine Learning geschäftsrelevante Vorhersagen zu treffen.\n",
    "Konkret steht die Fragestellung im Mittelpunkt, ob bevorstehende Reservierungen eines Hotels storniert werden oder nicht und wie wahrscheinlich ein solcher Stornofall ist.\n",
    "Eine zuverlässige Prognose in diesem Bereich kann für Hotelbetreiber von großem Wert sein, da sie eine optimierte Personal- und Ressourcenplanung, gezieltes Marketing sowie die Minimierung finanzieller Ausfälle ermöglicht.</p>\n",
    "\n",
    "<p style=\"text-align: justify;line-height: 1.5;color:black;font-family: 'Times New Roman', Times, serif;\">\n",
    "Zunächst wird ein Gesamtüberblick über das Problem und den wirtschaftlichen Kontext gegeben. Anschließend werden die benötigten Datenquellen vorgestellt, die Daten analysiert und für die Anwendung von Machine-Learning-Algorithmen aufbereitet. Darauf aufbauend wird ein passendes Modell ausgewählt, trainiert und verfeinert, bevor die Ergebnisse präsentiert und die Einsatzmöglichkeiten in der Praxis diskutiert werden.\n",
    " </p>\n"
   ]
  },
  {
   "cell_type": "markdown",
   "id": "8e3be131",
   "metadata": {},
   "source": [
    "<a id=\"kapitel1\" style=\"color:black\"><h2>1. Ziel</h2></a>\n",
    "**Ziel:** Überblick über das Problem, Motivation, Projektziel.\n",
    "\n",
    "<p style=\"color: black;\">\n",
    "Hier erläuterst du:\n",
    "- Problemstellung\n",
    "- Warum das Thema relevant ist\n",
    "- Erwartete Ergebnisse\n",
    "</p>"
   ]
  },
  {
   "cell_type": "code",
   "execution_count": null,
   "id": "b94e2619",
   "metadata": {},
   "outputs": [],
   "source": []
  },
  {
   "cell_type": "markdown",
   "id": "98b50fbb",
   "metadata": {},
   "source": [
    "\n",
    "<a id=\"kapitel2\" style=\"color:black\"><h2>2. Datenbeschaffung</h2></a> \n",
    "**Ziel:** Quellen und Beschaffung der Rohdaten.\n",
    "\n",
    "- Datenquellen (z. B. CSV, API, Web Scraping)\n",
    "- Rechtliche Aspekte (Lizenzen, Datenschutz)\n",
    "- Erster Blick auf Rohdaten"
   ]
  },
  {
   "cell_type": "code",
   "execution_count": 22,
   "id": "8bde56aa",
   "metadata": {},
   "outputs": [],
   "source": [
    "import pandas as pd\n",
    "df_train = pd.read_csv(\"train_dataset.csv\")\n",
    "df_test = pd.read_csv(\"test_dataset.csv\")"
   ]
  },
  {
   "cell_type": "code",
   "execution_count": 21,
   "id": "1fafa408",
   "metadata": {},
   "outputs": [
    {
     "data": {
      "text/plain": [
       "(18137, 18)"
      ]
     },
     "execution_count": 21,
     "metadata": {},
     "output_type": "execute_result"
    }
   ],
   "source": [
    "df_train.shape"
   ]
  },
  {
   "cell_type": "code",
   "execution_count": 24,
   "id": "53ee24bb",
   "metadata": {},
   "outputs": [
    {
     "name": "stdout",
     "output_type": "stream",
     "text": [
      "<class 'pandas.core.frame.DataFrame'>\n",
      "RangeIndex: 18137 entries, 0 to 18136\n",
      "Data columns (total 18 columns):\n",
      " #   Column                                Non-Null Count  Dtype  \n",
      "---  ------                                --------------  -----  \n",
      " 0   no_of_adults                          18137 non-null  int64  \n",
      " 1   no_of_children                        18137 non-null  int64  \n",
      " 2   no_of_weekend_nights                  18137 non-null  int64  \n",
      " 3   no_of_week_nights                     18137 non-null  int64  \n",
      " 4   type_of_meal_plan                     18137 non-null  int64  \n",
      " 5   required_car_parking_space            18137 non-null  int64  \n",
      " 6   room_type_reserved                    18137 non-null  int64  \n",
      " 7   lead_time                             18137 non-null  int64  \n",
      " 8   arrival_year                          18137 non-null  int64  \n",
      " 9   arrival_month                         18137 non-null  int64  \n",
      " 10  arrival_date                          18137 non-null  int64  \n",
      " 11  market_segment_type                   18137 non-null  int64  \n",
      " 12  repeated_guest                        18137 non-null  int64  \n",
      " 13  no_of_previous_cancellations          18137 non-null  int64  \n",
      " 14  no_of_previous_bookings_not_canceled  18137 non-null  int64  \n",
      " 15  avg_price_per_room                    18137 non-null  float64\n",
      " 16  no_of_special_requests                18137 non-null  int64  \n",
      " 17  booking_status                        18137 non-null  int64  \n",
      "dtypes: float64(1), int64(17)\n",
      "memory usage: 2.5 MB\n"
     ]
    }
   ],
   "source": [
    "df_train.info()"
   ]
  },
  {
   "cell_type": "markdown",
   "id": "2e0b96b8",
   "metadata": {},
   "source": [
    "## Fragen die sich angesichts der Merkmale stellen\n",
    "\n",
    "1. Wie hoch ist die Storoquoate pro Jahr\n",
    "2. Wie verteilen sich die Stornierungen im Jahr\n",
    "3. Gibt es einen Zusammenhang zwischen den bereits getätigten Stornierungen und dem Buchungsstatus"
   ]
  },
  {
   "cell_type": "code",
   "execution_count": 23,
   "id": "cbeb32b4",
   "metadata": {},
   "outputs": [
    {
     "data": {
      "text/html": [
       "<div>\n",
       "<style scoped>\n",
       "    .dataframe tbody tr th:only-of-type {\n",
       "        vertical-align: middle;\n",
       "    }\n",
       "\n",
       "    .dataframe tbody tr th {\n",
       "        vertical-align: top;\n",
       "    }\n",
       "\n",
       "    .dataframe thead th {\n",
       "        text-align: right;\n",
       "    }\n",
       "</style>\n",
       "<table border=\"1\" class=\"dataframe\">\n",
       "  <thead>\n",
       "    <tr style=\"text-align: right;\">\n",
       "      <th></th>\n",
       "      <th>no_of_adults</th>\n",
       "      <th>no_of_children</th>\n",
       "      <th>no_of_weekend_nights</th>\n",
       "      <th>no_of_week_nights</th>\n",
       "      <th>type_of_meal_plan</th>\n",
       "      <th>required_car_parking_space</th>\n",
       "      <th>room_type_reserved</th>\n",
       "      <th>lead_time</th>\n",
       "      <th>arrival_year</th>\n",
       "      <th>arrival_month</th>\n",
       "      <th>arrival_date</th>\n",
       "      <th>market_segment_type</th>\n",
       "      <th>repeated_guest</th>\n",
       "      <th>no_of_previous_cancellations</th>\n",
       "      <th>no_of_previous_bookings_not_canceled</th>\n",
       "      <th>avg_price_per_room</th>\n",
       "      <th>no_of_special_requests</th>\n",
       "    </tr>\n",
       "  </thead>\n",
       "  <tbody>\n",
       "    <tr>\n",
       "      <th>0</th>\n",
       "      <td>2</td>\n",
       "      <td>0</td>\n",
       "      <td>1</td>\n",
       "      <td>2</td>\n",
       "      <td>0</td>\n",
       "      <td>1</td>\n",
       "      <td>0</td>\n",
       "      <td>65</td>\n",
       "      <td>2018</td>\n",
       "      <td>3</td>\n",
       "      <td>28</td>\n",
       "      <td>1</td>\n",
       "      <td>0</td>\n",
       "      <td>0</td>\n",
       "      <td>0</td>\n",
       "      <td>96.3</td>\n",
       "      <td>0</td>\n",
       "    </tr>\n",
       "    <tr>\n",
       "      <th>1</th>\n",
       "      <td>2</td>\n",
       "      <td>0</td>\n",
       "      <td>0</td>\n",
       "      <td>2</td>\n",
       "      <td>0</td>\n",
       "      <td>0</td>\n",
       "      <td>0</td>\n",
       "      <td>322</td>\n",
       "      <td>2018</td>\n",
       "      <td>12</td>\n",
       "      <td>9</td>\n",
       "      <td>0</td>\n",
       "      <td>0</td>\n",
       "      <td>0</td>\n",
       "      <td>0</td>\n",
       "      <td>52.0</td>\n",
       "      <td>0</td>\n",
       "    </tr>\n",
       "  </tbody>\n",
       "</table>\n",
       "</div>"
      ],
      "text/plain": [
       "   no_of_adults  no_of_children  no_of_weekend_nights  no_of_week_nights  \\\n",
       "0             2               0                     1                  2   \n",
       "1             2               0                     0                  2   \n",
       "\n",
       "   type_of_meal_plan  required_car_parking_space  room_type_reserved  \\\n",
       "0                  0                           1                   0   \n",
       "1                  0                           0                   0   \n",
       "\n",
       "   lead_time  arrival_year  arrival_month  arrival_date  market_segment_type  \\\n",
       "0         65          2018              3            28                    1   \n",
       "1        322          2018             12             9                    0   \n",
       "\n",
       "   repeated_guest  no_of_previous_cancellations  \\\n",
       "0               0                             0   \n",
       "1               0                             0   \n",
       "\n",
       "   no_of_previous_bookings_not_canceled  avg_price_per_room  \\\n",
       "0                                     0                96.3   \n",
       "1                                     0                52.0   \n",
       "\n",
       "   no_of_special_requests  \n",
       "0                       0  \n",
       "1                       0  "
      ]
     },
     "execution_count": 23,
     "metadata": {},
     "output_type": "execute_result"
    }
   ],
   "source": [
    "df_test.head(2)"
   ]
  },
  {
   "cell_type": "markdown",
   "id": "6ffe2ac5",
   "metadata": {},
   "source": [
    "\n",
    "## <a id=\"kapitel3\"></a>2. Erkunden und Visualisieren\n",
    "**Ziel:** Verständis und Gefühl für die Daten\n",
    "\n",
    "- Visualisiren\n",
    "- Matrix"
   ]
  },
  {
   "cell_type": "code",
   "execution_count": 11,
   "id": "8f64a61a",
   "metadata": {},
   "outputs": [],
   "source": [
    "import matplotlib.pyplot as plt"
   ]
  },
  {
   "cell_type": "code",
   "execution_count": null,
   "id": "0ba3c46d",
   "metadata": {},
   "outputs": [],
   "source": []
  }
 ],
 "metadata": {
  "kernelspec": {
   "display_name": "py11",
   "language": "python",
   "name": "python3"
  },
  "language_info": {
   "codemirror_mode": {
    "name": "ipython",
    "version": 3
   },
   "file_extension": ".py",
   "mimetype": "text/x-python",
   "name": "python",
   "nbconvert_exporter": "python",
   "pygments_lexer": "ipython3",
   "version": "3.11.13"
  }
 },
 "nbformat": 4,
 "nbformat_minor": 5
}
